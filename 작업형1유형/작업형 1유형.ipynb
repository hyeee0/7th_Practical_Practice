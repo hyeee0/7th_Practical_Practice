{
 "cells": [
  {
   "cell_type": "markdown",
   "source": [
    "# T1-1. 이상치를 찾아라(IQR활용)"
   ],
   "metadata": {
    "collapsed": false
   }
  },
  {
   "cell_type": "code",
   "execution_count": 2,
   "metadata": {
    "collapsed": true
   },
   "outputs": [
    {
     "name": "stdout",
     "output_type": "stream",
     "text": [
      "     PassengerId  Survived  Pclass   \n",
      "0              1         0       3  \\\n",
      "1              2         1       1   \n",
      "2              3         1       3   \n",
      "3              4         1       1   \n",
      "4              5         0       3   \n",
      "..           ...       ...     ...   \n",
      "886          887         0       2   \n",
      "887          888         1       1   \n",
      "888          889         0       3   \n",
      "889          890         1       1   \n",
      "890          891         0       3   \n",
      "\n",
      "                                                  Name     Sex   Age  SibSp   \n",
      "0                              Braund, Mr. Owen Harris    male  22.0      1  \\\n",
      "1    Cumings, Mrs. John Bradley (Florence Briggs Th...  female  38.0      1   \n",
      "2                               Heikkinen, Miss. Laina  female  26.0      0   \n",
      "3         Futrelle, Mrs. Jacques Heath (Lily May Peel)  female  35.0      1   \n",
      "4                             Allen, Mr. William Henry    male  35.0      0   \n",
      "..                                                 ...     ...   ...    ...   \n",
      "886                              Montvila, Rev. Juozas    male  27.0      0   \n",
      "887                       Graham, Miss. Margaret Edith  female  19.0      0   \n",
      "888           Johnston, Miss. Catherine Helen \"Carrie\"  female   NaN      1   \n",
      "889                              Behr, Mr. Karl Howell    male  26.0      0   \n",
      "890                                Dooley, Mr. Patrick    male  32.0      0   \n",
      "\n",
      "     Parch            Ticket     Fare Cabin Embarked  \n",
      "0        0         A/5 21171   7.2500   NaN        S  \n",
      "1        0          PC 17599  71.2833   C85        C  \n",
      "2        0  STON/O2. 3101282   7.9250   NaN        S  \n",
      "3        0            113803  53.1000  C123        S  \n",
      "4        0            373450   8.0500   NaN        S  \n",
      "..     ...               ...      ...   ...      ...  \n",
      "886      0            211536  13.0000   NaN        S  \n",
      "887      0            112053  30.0000   B42        S  \n",
      "888      2        W./C. 6607  23.4500   NaN        S  \n",
      "889      0            111369  30.0000  C148        C  \n",
      "890      0            370376   7.7500   NaN        Q  \n",
      "\n",
      "[891 rows x 12 columns]\n",
      "     PassengerId  Pclass                                          Name   \n",
      "0            892       3                              Kelly, Mr. James  \\\n",
      "1            893       3              Wilkes, Mrs. James (Ellen Needs)   \n",
      "2            894       2                     Myles, Mr. Thomas Francis   \n",
      "3            895       3                              Wirz, Mr. Albert   \n",
      "4            896       3  Hirvonen, Mrs. Alexander (Helga E Lindqvist)   \n",
      "..           ...     ...                                           ...   \n",
      "413         1305       3                            Spector, Mr. Woolf   \n",
      "414         1306       1                  Oliva y Ocana, Dona. Fermina   \n",
      "415         1307       3                  Saether, Mr. Simon Sivertsen   \n",
      "416         1308       3                           Ware, Mr. Frederick   \n",
      "417         1309       3                      Peter, Master. Michael J   \n",
      "\n",
      "        Sex   Age  SibSp  Parch              Ticket      Fare Cabin Embarked  \n",
      "0      male  34.5      0      0              330911    7.8292   NaN        Q  \n",
      "1    female  47.0      1      0              363272    7.0000   NaN        S  \n",
      "2      male  62.0      0      0              240276    9.6875   NaN        Q  \n",
      "3      male  27.0      0      0              315154    8.6625   NaN        S  \n",
      "4    female  22.0      1      1             3101298   12.2875   NaN        S  \n",
      "..      ...   ...    ...    ...                 ...       ...   ...      ...  \n",
      "413    male   NaN      0      0           A.5. 3236    8.0500   NaN        S  \n",
      "414  female  39.0      0      0            PC 17758  108.9000  C105        C  \n",
      "415    male  38.5      0      0  SOTON/O.Q. 3101262    7.2500   NaN        S  \n",
      "416    male   NaN      0      0              359309    8.0500   NaN        S  \n",
      "417    male   NaN      1      1                2668   22.3583   NaN        C  \n",
      "\n",
      "[418 rows x 11 columns]\n",
      "(891, 12) (418, 11)\n",
      "<class 'pandas.core.frame.DataFrame'>\n",
      "RangeIndex: 891 entries, 0 to 890\n",
      "Data columns (total 12 columns):\n",
      " #   Column       Non-Null Count  Dtype  \n",
      "---  ------       --------------  -----  \n",
      " 0   PassengerId  891 non-null    int64  \n",
      " 1   Survived     891 non-null    int64  \n",
      " 2   Pclass       891 non-null    int64  \n",
      " 3   Name         891 non-null    object \n",
      " 4   Sex          891 non-null    object \n",
      " 5   Age          714 non-null    float64\n",
      " 6   SibSp        891 non-null    int64  \n",
      " 7   Parch        891 non-null    int64  \n",
      " 8   Ticket       891 non-null    object \n",
      " 9   Fare         891 non-null    float64\n",
      " 10  Cabin        204 non-null    object \n",
      " 11  Embarked     889 non-null    object \n",
      "dtypes: float64(2), int64(5), object(5)\n",
      "memory usage: 83.7+ KB\n",
      "None\n",
      "<class 'pandas.core.frame.DataFrame'>\n",
      "RangeIndex: 418 entries, 0 to 417\n",
      "Data columns (total 11 columns):\n",
      " #   Column       Non-Null Count  Dtype  \n",
      "---  ------       --------------  -----  \n",
      " 0   PassengerId  418 non-null    int64  \n",
      " 1   Pclass       418 non-null    int64  \n",
      " 2   Name         418 non-null    object \n",
      " 3   Sex          418 non-null    object \n",
      " 4   Age          332 non-null    float64\n",
      " 5   SibSp        418 non-null    int64  \n",
      " 6   Parch        418 non-null    int64  \n",
      " 7   Ticket       418 non-null    object \n",
      " 8   Fare         417 non-null    float64\n",
      " 9   Cabin        91 non-null     object \n",
      " 10  Embarked     418 non-null    object \n",
      "dtypes: float64(2), int64(4), object(5)\n",
      "memory usage: 36.0+ KB\n",
      "None\n",
      "PassengerId      0\n",
      "Survived         0\n",
      "Pclass           0\n",
      "Name             0\n",
      "Sex              0\n",
      "Age            177\n",
      "SibSp            0\n",
      "Parch            0\n",
      "Ticket           0\n",
      "Fare             0\n",
      "Cabin          687\n",
      "Embarked         2\n",
      "dtype: int64\n",
      "   PassengerId  Survived  Pclass   \n",
      "0            1         0       3  \\\n",
      "1            2         1       1   \n",
      "2            3         1       3   \n",
      "3            4         1       1   \n",
      "4            5         0       3   \n",
      "\n",
      "                                                Name     Sex   Age  SibSp   \n",
      "0                            Braund, Mr. Owen Harris    male  22.0      1  \\\n",
      "1  Cumings, Mrs. John Bradley (Florence Briggs Th...  female  38.0      1   \n",
      "2                             Heikkinen, Miss. Laina  female  26.0      0   \n",
      "3       Futrelle, Mrs. Jacques Heath (Lily May Peel)  female  35.0      1   \n",
      "4                           Allen, Mr. William Henry    male  35.0      0   \n",
      "\n",
      "   Parch            Ticket     Fare Cabin Embarked  \n",
      "0      0         A/5 21171   7.2500   NaN        S  \n",
      "1      0          PC 17599  71.2833   C85        C  \n",
      "2      0  STON/O2. 3101282   7.9250   NaN        S  \n",
      "3      0            113803  53.1000  C123        S  \n",
      "4      0            373450   8.0500   NaN        S  \n",
      "-26.724\n",
      "65.6344\n",
      "0 116\n",
      "70\n"
     ]
    }
   ],
   "source": [
    "\"\"\"\n",
    "이상치를 찾아라\n",
    "데이터에서 IQR을 활용해 Fare컬럼의 이상치를 찾고, 이상치 데이터의 여성 수를 구하시오\n",
    "\n",
    "\"\"\"\n",
    "# 라이브러리 및 데이터 불러오기\n",
    "import pandas as pd\n",
    "\n",
    "train = pd.read_csv('../Data/Titanic/train.csv')\n",
    "test = pd.read_csv('../Data/Titanic/test.csv')\n",
    "\n",
    "print(train)\n",
    "print(test)\n",
    "\n",
    "# 간단한 탐색적 데이터 분석(EDA)\n",
    "\n",
    "print(train.shape, test.shape)\n",
    "print(train.info())\n",
    "print(test.info())\n",
    "print(train.isnull().sum())\n",
    "print(train.head())\n",
    "\n",
    "# IQR 구하기 / Fare컬럼의 이상치를 구할거니깐 ['Fare']컬럼을 보자\n",
    "\n",
    "Q1 = train['Fare'].quantile(.25)\n",
    "Q3 = train['Fare'].quantile(.75)\n",
    "\n",
    "IQR = Q3 - Q1\n",
    "print(Q1 - 1.5*IQR)\n",
    "print(Q3 + 1.5*IQR)\n",
    "\n",
    "# 이상치 데이터 구하기\n",
    "data1 = train[train['Fare'] < (Q1 - 1.5*IQR)]\n",
    "data2 = train[train['Fare'] > (Q3 + 1.5*IQR)]\n",
    "print(len(data1), len(data2))\n",
    "\n",
    "# 이상치 데이터에서 여성 수 구하기, 출력하기 print()\n",
    "\n",
    "print(sum(data2['Sex'] == 'female'))"
   ]
  },
  {
   "cell_type": "markdown",
   "source": [
    "# T1-2. 이상치를 찾아라(소수점 나이)"
   ],
   "metadata": {
    "collapsed": false
   }
  },
  {
   "cell_type": "code",
   "execution_count": 3,
   "outputs": [
    {
     "name": "stdout",
     "output_type": "stream",
     "text": [
      "       id    age city    f1  f2   f3    f4         f5\n",
      "0    id01    2.0   서울   NaN   0  NaN  ENFJ  91.297791\n",
      "1    id02    9.0   서울  70.0   1  NaN  ENFJ  60.339826\n",
      "2    id03   27.0   서울  61.0   1  NaN  ISTJ  17.252986\n",
      "3    id04   75.0   서울   NaN   2  NaN  INFP  52.667078\n",
      "4    id05   24.0   서울  85.0   2  NaN  ISFJ  29.269869\n",
      "..    ...    ...  ...   ...  ..  ...   ...        ...\n",
      "95   id96   92.0   경기  53.0   1  NaN  ENTJ  52.667078\n",
      "96   id97  100.0   경기   NaN   0  NaN  INFP  67.886373\n",
      "97   id98   39.0   경기  58.0   2  NaN  INFP  98.429899\n",
      "98   id99    1.0   경기  47.0   0  NaN  ESFJ  97.381034\n",
      "99  id100   47.0   경기  53.0   0  vip  ESFP  33.308999\n",
      "\n",
      "[100 rows x 8 columns]\n",
      "      id   age city    f1  f2   f3    f4         f5\n",
      "6   id07  36.3   서울  60.0   1  NaN  ISFJ   9.796378\n",
      "8   id09   3.3   서울  35.0   2  NaN  ESFJ  17.252986\n",
      "21  id22  -6.3   부산  72.0   1  NaN  ENFP  52.667078\n",
      "28  id29 -13.5   부산  47.0   2  NaN  ENTP  67.886373\n",
      "46  id47  34.6   대구  75.0   1  NaN  ESTJ  90.496999\n",
      "64  id65  26.5   경기   NaN   0  NaN  ISFP  91.297791\n",
      "84  id85  83.6   경기  55.0   0  NaN  INFJ  80.138280\n",
      "92  id93  21.8   경기  57.0   0  NaN  ISFP  73.586397\n",
      "23.75 22.75 23.0\n",
      "69.5\n",
      "       id    age city    f1  f2   f3    f4         f5\n",
      "0    id01    2.0   서울   NaN   0  NaN  ENFJ  91.297791\n",
      "1    id02    9.0   서울  70.0   1  NaN  ENFJ  60.339826\n",
      "2    id03   27.0   서울  61.0   1  NaN  ISTJ  17.252986\n",
      "3    id04   75.0   서울   NaN   2  NaN  INFP  52.667078\n",
      "4    id05   24.0   서울  85.0   2  NaN  ISFJ  29.269869\n",
      "..    ...    ...  ...   ...  ..  ...   ...        ...\n",
      "95   id96   92.0   경기  53.0   1  NaN  ENTJ  52.667078\n",
      "96   id97  100.0   경기   NaN   0  NaN  INFP  67.886373\n",
      "97   id98   39.0   경기  58.0   2  NaN  INFP  98.429899\n",
      "98   id99    1.0   경기  47.0   0  NaN  ESFJ  97.381034\n",
      "99  id100   47.0   경기  53.0   0  vip  ESFP  33.308999\n",
      "\n",
      "[100 rows x 8 columns]\n",
      "      id   age city    f1  f2   f3    f4         f5\n",
      "6   id07  36.3   서울  60.0   1  NaN  ISFJ   9.796378\n",
      "8   id09   3.3   서울  35.0   2  NaN  ESFJ  17.252986\n",
      "21  id22  -6.3   부산  72.0   1  NaN  ENFP  52.667078\n",
      "28  id29 -13.5   부산  47.0   2  NaN  ENTP  67.886373\n",
      "46  id47  34.6   대구  75.0   1  NaN  ESTJ  90.496999\n",
      "64  id65  26.5   경기   NaN   0  NaN  ISFP  91.297791\n",
      "84  id85  83.6   경기  55.0   0  NaN  INFJ  80.138280\n",
      "92  id93  21.8   경기  57.0   0  NaN  ISFP  73.586397\n",
      "23.75 22.75 23.0\n",
      "69.5\n"
     ]
    }
   ],
   "source": [
    "\"\"\"\n",
    "\n",
    "이상치를 찾아라(소수점 나이)\n",
    "\n",
    "주어진 데이터에서 이상치(소수점 나이)를 찾고 올림, 내림, 버림(절사)했을때 3가지 모두 이상치 'age' 평균을 구한 다음 모두 더하여 출력하시오\n",
    "\n",
    "\"\"\"\n",
    "\n",
    "# 라이브러리 및 데이터 불러오기\n",
    "import pandas as pd\n",
    "import numpy as np\n",
    "\n",
    "df = pd.read_csv('../Data/T1-2/basic1.csv')\n",
    "print(df)\n",
    "\n",
    "# 소수점 데이터 찾기 (소수점 나이)\n",
    "df = df[df['age'] - np.floor(df['age']) != 0] # 원래 값이랑 내림한 값이랑 0이면 그 값으 소수점이 아닌건데 0이 아닌건 그 값이 소수점이라는 뜻\n",
    "print(df)\n",
    "\n",
    "# 이상치를 포함한 데이터 올림, 내림, 버림의 평균값\n",
    "\n",
    "m_ceil = np.ceil(df['age']).mean() # 올림의 평균값\n",
    "m_floor = np.floor(df['age']).mean() # 내림의 평균값\n",
    "m_trunc = np.trunc(df['age']).mean() # 버림의 평균값\n",
    "print(m_ceil, m_floor, m_trunc)\n",
    "\n",
    "# 평균값 더한 다음 출력\n",
    "print(m_ceil + m_floor + m_trunc)\n"
   ],
   "metadata": {
    "collapsed": false
   }
  },
  {
   "cell_type": "markdown",
   "source": [
    "# T1-3. 결측치 처리(map 활용)"
   ],
   "metadata": {
    "collapsed": false
   }
  },
  {
   "cell_type": "code",
   "execution_count": 4,
   "outputs": [
    {
     "name": "stdout",
     "output_type": "stream",
     "text": [
      "     id   age city    f1  f2   f3    f4         f5\n",
      "0  id01   2.0   서울   NaN   0  NaN  ENFJ  91.297791\n",
      "1  id02   9.0   서울  70.0   1  NaN  ENFJ  60.339826\n",
      "2  id03  27.0   서울  61.0   1  NaN  ISTJ  17.252986\n",
      "3  id04  75.0   서울   NaN   2  NaN  INFP  52.667078\n",
      "4  id05  24.0   서울  85.0   2  NaN  ISFJ  29.269869\n",
      "id       0\n",
      "age      0\n",
      "city     0\n",
      "f1      31\n",
      "f2       0\n",
      "f3      95\n",
      "f4       0\n",
      "f5       0\n",
      "dtype: int64\n",
      "(100, 8)\n",
      "id      0.00\n",
      "age     0.00\n",
      "city    0.00\n",
      "f1      0.31\n",
      "f2      0.00\n",
      "f3      0.95\n",
      "f4      0.00\n",
      "f5      0.00\n",
      "dtype: float64\n",
      "삭제 전 : (100, 8)\n",
      "삭제 후 : (100, 7)\n",
      "['서울' '부산' '대구' '경기']\n",
      "68.0 62.0 75.0 58.0\n",
      "65.52\n"
     ]
    }
   ],
   "source": [
    "\"\"\"\n",
    "결측치 처리\n",
    "\n",
    "주어진 데이터에서 결측치가 80%이상 되는 컬럼은(변수는) 삭제하고,\n",
    " 80% 미만인 결측치가 있는 컬럼은 'city'별 중앙값으로 값을 대체하고 'f1'컬럼의 평균값을 출력하세요!\n",
    "\n",
    "\"\"\"\n",
    "\n",
    "# 라이브러리 및 데이터 불러오기\n",
    "import pandas as pd\n",
    "import numpy as np\n",
    "\n",
    "df = pd.read_csv('../Data/T1-3/basic1.csv')\n",
    "print(df.head())\n",
    "\n",
    "# EDA - 결측값 확인(비율 확인) -> 비율 확인하려면 isnull().sum() / shape[0] 을 해주면 된다.\n",
    "print(df.isnull().sum())\n",
    "print(df.shape)\n",
    "\n",
    "print((df.isnull().sum()) / df.shape[0]) # 결측비율 확인\n",
    "\n",
    "# 80%이상 결측치 컬럼, 삭제 -> ['f3']컬럼이 95% 결측치니깐 해당 컬럼을 삭제해준다\n",
    "print('삭제 전 :', df.shape)\n",
    "df = df.drop(['f3'], axis=1)\n",
    "print('삭제 후 :', df.shape)\n",
    "\n",
    "# 80%미만 결측치 컬럼, city별 중앙값으로 대체 -> 80%미만인 컬럼이 ['f1'] / 중앙값이니깐 median\n",
    "print(df['city'].unique())\n",
    "\n",
    "s = df[df['city'] == '서울']['f1'].median()\n",
    "b = df[df['city'] == '부산']['f1'].median()\n",
    "d = df[df['city'] == '대구']['f1'].median()\n",
    "g = df[df['city'] == '경기']['f1'].median()\n",
    "print(s, b, d, g)\n",
    "\n",
    "df['f1'] = df['f1'].fillna(df['city'].map({'서울':s, '부산':b, '대구':d, '경기':g})) # f1 컬럼의 결측치를 각각의 city 중앙값으로 대체(map을 사용)\n",
    "\n",
    "# f1 평균값 결과 출력\n",
    "print(df['f1'].mean())"
   ],
   "metadata": {
    "collapsed": false
   }
  },
  {
   "cell_type": "markdown",
   "source": [
    "# T1-4. 왜도와 첨도 구하기 (로그스케일)"
   ],
   "metadata": {
    "collapsed": false
   }
  },
  {
   "cell_type": "code",
   "execution_count": 5,
   "outputs": [
    {
     "name": "stdout",
     "output_type": "stream",
     "text": [
      "   Id  MSSubClass MSZoning  LotFrontage  LotArea Street Alley LotShape   \n",
      "0   1          60       RL         65.0     8450   Pave   NaN      Reg  \\\n",
      "1   2          20       RL         80.0     9600   Pave   NaN      Reg   \n",
      "2   3          60       RL         68.0    11250   Pave   NaN      IR1   \n",
      "3   4          70       RL         60.0     9550   Pave   NaN      IR1   \n",
      "4   5          60       RL         84.0    14260   Pave   NaN      IR1   \n",
      "\n",
      "  LandContour Utilities  ... PoolArea PoolQC Fence MiscFeature MiscVal MoSold   \n",
      "0         Lvl    AllPub  ...        0    NaN   NaN         NaN       0      2  \\\n",
      "1         Lvl    AllPub  ...        0    NaN   NaN         NaN       0      5   \n",
      "2         Lvl    AllPub  ...        0    NaN   NaN         NaN       0      9   \n",
      "3         Lvl    AllPub  ...        0    NaN   NaN         NaN       0      2   \n",
      "4         Lvl    AllPub  ...        0    NaN   NaN         NaN       0     12   \n",
      "\n",
      "  YrSold  SaleType  SaleCondition  SalePrice  \n",
      "0   2008        WD         Normal     208500  \n",
      "1   2007        WD         Normal     181500  \n",
      "2   2008        WD         Normal     223500  \n",
      "3   2006        WD        Abnorml     140000  \n",
      "4   2008        WD         Normal     250000  \n",
      "\n",
      "[5 rows x 81 columns]\n",
      "왜도 :  1.8828757597682129\n",
      "첨도 : 6.536281860064529\n",
      "왜도 : 0.12134661989685333\n",
      "첨도 : 0.809519155707878\n",
      "9.35\n"
     ]
    }
   ],
   "source": [
    "\"\"\"\n",
    "왜도와 첨도 구하기\n",
    "\n",
    "주어진 데이터 중 train.csv에서 'SalePrice'컬럼의 왜도와 첨도를 구한 값과,\n",
    " 'SalePrice'컬럼을 스케일링(log1p)로 변환한 이후 왜도와 첨도를 구해 모두 더한 다음 소수점 2째자리까지 출력하시오\n",
    "\n",
    "\"\"\"\n",
    "\n",
    "# 라이브러리 및 데이터 불러오기\n",
    "import pandas as pd\n",
    "import numpy as np\n",
    "\n",
    "df = pd.read_csv('../Data/T1-4/train.csv')\n",
    "print(df.head())\n",
    "\n",
    "# 'SalePrice'컬럼 왜도와 첨도계산\n",
    "s1 = df['SalePrice'].skew() # 왜도 계상 df[].skew()\n",
    "k1 = df['SalePrice'].kurt() # 첨도 계상 df[].kurt()\n",
    "print('왜도 : ', s1)\n",
    "print('첨도 :', k1)\n",
    "\n",
    "# 'SalePrice'컬럼 로그변환\n",
    "\n",
    "df['SalePrice'] = np.log1p((df['SalePrice']))\n",
    "\n",
    "# 'SalePrice'컬럼 왜도와 첨도계산\n",
    "s2 = df['SalePrice'].skew()\n",
    "k2 = df['SalePrice'].kurt()\n",
    "print('왜도 :', s2)\n",
    "print('첨도 :', k2)\n",
    "\n",
    "# 모두 더한 다음 출력\n",
    "\n",
    "print(round(s1+s2+k1+k2, 2))"
   ],
   "metadata": {
    "collapsed": false
   }
  },
  {
   "cell_type": "markdown",
   "source": [
    "# T1-5. 조건에 맞는 데이터 표준편차 구하기"
   ],
   "metadata": {
    "collapsed": false
   }
  },
  {
   "cell_type": "code",
   "execution_count": 6,
   "outputs": [
    {
     "name": "stdout",
     "output_type": "stream",
     "text": [
      "     id   age city    f1  f2   f3    f4         f5\n",
      "0  id01   2.0   서울   NaN   0  NaN  ENFJ  91.297791\n",
      "1  id02   9.0   서울  70.0   1  NaN  ENFJ  60.339826\n",
      "2  id03  27.0   서울  61.0   1  NaN  ISTJ  17.252986\n",
      "3  id04  75.0   서울   NaN   2  NaN  INFP  52.667078\n",
      "4  id05  24.0   서울  85.0   2  NaN  ISFJ  29.269869\n",
      "      id   age city    f1  f2   f3    f4         f5\n",
      "0   id01   2.0   서울   NaN   0  NaN  ENFJ  91.297791\n",
      "1   id02   9.0   서울  70.0   1  NaN  ENFJ  60.339826\n",
      "32  id33  47.0   부산  94.0   0  NaN  ENFJ  17.252986\n",
      "40  id41  81.0   대구  55.0   0  NaN  ENFJ  37.113739\n",
      "44  id45  97.0   대구  88.0   0  NaN  ENFJ  13.049921\n",
      "17.727097901235837\n",
      "23.586719427112648\n",
      "5.859621525876811\n"
     ]
    }
   ],
   "source": [
    "\"\"\"\n",
    "조건에 맞는 데이터 표준편차 구하기\n",
    "\n",
    "- 주어진 데이터 중 basic1.csv에서 'f4'컬럼 값이 'ENFJ'와 'INFP'인 'f1'의 표준편차 차이를 절대값으로 구하시오\n",
    "- 데이터셋 : basic1.csv\n",
    "- 오른쪽 상단 copy&edit 클릭 -> 예상문제 풀이 시작\n",
    "\n",
    "\"\"\"\n",
    "import pandas as pd\n",
    "import numpy as np\n",
    "\n",
    "# 라이브러리 및 데이터 불러오기\n",
    "\n",
    "df = pd.read_csv('../Data/T1-5/basic1.csv')\n",
    "print(df.head())\n",
    "\n",
    "# 조건에 맞는 데이터 (ENFJ, INFP)\n",
    "\n",
    "df_ENFJ = df[df['f4'] == 'ENFJ']\n",
    "df_INFP = df[df['f4'] == 'INFP']\n",
    "\n",
    "print(df_ENFJ.head())\n",
    "\n",
    "# 조건에 맞는 f1의 표준편차 (ENFJ, INFP) / 표준편차 std()\n",
    "\n",
    "entj = df_ENFJ['f1'].std()\n",
    "print(entj) # 17.727097901235837\n",
    "\n",
    "infp = df_INFP['f1'].std() # 23.586719427112648\n",
    "print(infp)\n",
    "\n",
    "# 두 표준편차 차이 절대값 출력\n",
    "print(np.abs(entj-infp)) # 5.859621525876811"
   ],
   "metadata": {
    "collapsed": false
   }
  },
  {
   "cell_type": "markdown",
   "source": [
    "# T1-6. 결측치 제거 및 그룹 합계"
   ],
   "metadata": {
    "collapsed": false
   }
  },
  {
   "cell_type": "code",
   "execution_count": 7,
   "outputs": [
    {
     "name": "stdout",
     "output_type": "stream",
     "text": [
      "833.0\n"
     ]
    }
   ],
   "source": [
    "'''\n",
    "결측치 제거 및 그룹 합계에서 조건에 맞는 값 찾아 출력\n",
    "주어진 데이터 중 basic1.csv에서 'f1'컬럼 결측 데이터를 제거하고, 'city'와 'f2'을 기준으로 묶어 합계를 구하고, 'city가 경기이면서 f2가 0'인 조건에 만족하는 f1 값을 구하시오\n",
    "'''\n",
    "import pandas as pd\n",
    "import numpy as np\n",
    "\n",
    "df = pd.read_csv('../Data/T1-6.csv')\n",
    "\n",
    "# f1컬럼 결측치 제거\n",
    "df = df[~df['f1'].isnull()]\n",
    "\n",
    "# 그룹 합계 계산\n",
    "df2 = df.groupby(['city', 'f2']).sum()\n",
    "df2\n",
    "print(df2.iloc[0]['f1']) # 경기이면서 0인 f1값"
   ],
   "metadata": {
    "collapsed": false
   }
  },
  {
   "cell_type": "markdown",
   "source": [
    "# T1-7. 값 변경 및 2개 이상의 조건"
   ],
   "metadata": {
    "collapsed": false
   }
  },
  {
   "cell_type": "code",
   "execution_count": 8,
   "outputs": [
    {
     "data": {
      "text/plain": "90.0"
     },
     "execution_count": 8,
     "metadata": {},
     "output_type": "execute_result"
    }
   ],
   "source": [
    "'''\n",
    "'f4'컬럼의 값이 'ESFJ'인 데이터를 'ISFJ'로 대체하고,\n",
    "'city'가 '경기'이면서 'f4'가 'ISFJ'인 데이터 중 'age'컬럼의 최대값을 출력하시오!\n",
    "\n",
    "'''\n",
    "\n",
    "import pandas as pd\n",
    "import numpy as np\n",
    "\n",
    "df = pd.read_csv('../Data/T1-7.csv')\n",
    "\n",
    "# 값 변경하기\n",
    "df['f4'] = df['f4'].replace('ESFJ', 'ISFJ')\n",
    "\n",
    "# 'city'가 '경기'이면서 'f4'가 'ISFJ'인 데이터의 'age' 최대값\n",
    "df[(df['f4'] == 'ISFJ') & (df['city'] == '경기')]['age'].max()"
   ],
   "metadata": {
    "collapsed": false
   }
  },
  {
   "cell_type": "markdown",
   "source": [
    "# T1-8. 누적합 그리고 보간"
   ],
   "metadata": {
    "collapsed": false
   }
  },
  {
   "cell_type": "code",
   "execution_count": 9,
   "outputs": [
    {
     "name": "stdout",
     "output_type": "stream",
     "text": [
      "980.3783783783783\n"
     ]
    }
   ],
   "source": [
    "'''\n",
    "주어진 데이터 셋에서 'f2' 컬럼이 1인 조건에 해당하는 데이터의 'f1'컬럼 누적합을 계산한다.\n",
    "이때 발생하는 누적합 결측치는 바로 뒤의 값을 채우고,\n",
    "누적합의 평균값을 출력한다. (단, 결측치 바로 뒤의 값이 없으면 다음에 나오는 값을 채워넣는다)\n",
    "'''\n",
    "\n",
    "import pandas as pd\n",
    "import numpy as np\n",
    "\n",
    "df = pd.read_csv('../Data/T1-8.csv')\n",
    "\n",
    "# 'f1'컬럼 누적합 -> cumsum()을 사용하자\n",
    "df2 = df[df['f2'] == 1]['f1'].cumsum()\n",
    "\n",
    "# 결측치를 바로 뒤의 값으로 채운다 -> fillna.(method='bfill')\n",
    "# fillna(method='ffill' or 'pad') 앞쪽 값으로 채우기\n",
    "# fillna(method='bill' or 'backfill') 뒷쪽 값으로 채우기\n",
    "df2 = df2.fillna(method='bfill')\n",
    "df2\n",
    "\n",
    "# 평균 출력\n",
    "print(df2.mean())"
   ],
   "metadata": {
    "collapsed": false
   }
  }
 ],
 "metadata": {
  "kernelspec": {
   "display_name": "Python 3",
   "language": "python",
   "name": "python3"
  },
  "language_info": {
   "codemirror_mode": {
    "name": "ipython",
    "version": 2
   },
   "file_extension": ".py",
   "mimetype": "text/x-python",
   "name": "python",
   "nbconvert_exporter": "python",
   "pygments_lexer": "ipython2",
   "version": "2.7.6"
  }
 },
 "nbformat": 4,
 "nbformat_minor": 0
}
