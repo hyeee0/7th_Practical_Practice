{
  "nbformat": 4,
  "nbformat_minor": 0,
  "metadata": {
    "colab": {
      "provenance": [],
      "authorship_tag": "ABX9TyNRx2azDT5H8zStnNBO8azF"
    },
    "kernelspec": {
      "name": "python3",
      "display_name": "Python 3"
    },
    "language_info": {
      "name": "python"
    }
  },
  "cells": [
    {
      "cell_type": "code",
      "source": [
        "# 데이터 불러오기\n",
        "import pandas as pd\n",
        "import numpy as np\n",
        "df = pd.read_csv('/content/mtcars.csv')\n",
        "df.head()"
      ],
      "metadata": {
        "colab": {
          "base_uri": "https://localhost:8080/",
          "height": 206
        },
        "id": "v2pYEToiyKuA",
        "outputId": "3200769f-8323-4235-bd73-3242623aa25d"
      },
      "execution_count": null,
      "outputs": [
        {
          "output_type": "execute_result",
          "data": {
            "text/plain": [
              "                 car   mpg  cyl   disp   hp  drat     wt   qsec  vs  am  gear  \\\n",
              "0          Mazda RX4  21.0    6  160.0  110  3.90  2.620  16.46   0   1     4   \n",
              "1      Mazda RX4 Wag  21.0    6  160.0  110  3.90  2.875  17.02   0   1     4   \n",
              "2         Datsun 710  22.8    4  108.0   93  3.85  2.320  18.61   1   1     4   \n",
              "3     Hornet 4 Drive  21.4    6  258.0  110  3.08  3.215  19.44   1   0     3   \n",
              "4  Hornet Sportabout  18.7    8  360.0  175  3.15  3.440  17.02   0   0     3   \n",
              "\n",
              "   carb  \n",
              "0     4  \n",
              "1     4  \n",
              "2     1  \n",
              "3     1  \n",
              "4     2  "
            ],
            "text/html": [
              "\n",
              "  <div id=\"df-b045c65b-c4bd-4892-8e2e-1f331eacf9c6\" class=\"colab-df-container\">\n",
              "    <div>\n",
              "<style scoped>\n",
              "    .dataframe tbody tr th:only-of-type {\n",
              "        vertical-align: middle;\n",
              "    }\n",
              "\n",
              "    .dataframe tbody tr th {\n",
              "        vertical-align: top;\n",
              "    }\n",
              "\n",
              "    .dataframe thead th {\n",
              "        text-align: right;\n",
              "    }\n",
              "</style>\n",
              "<table border=\"1\" class=\"dataframe\">\n",
              "  <thead>\n",
              "    <tr style=\"text-align: right;\">\n",
              "      <th></th>\n",
              "      <th>car</th>\n",
              "      <th>mpg</th>\n",
              "      <th>cyl</th>\n",
              "      <th>disp</th>\n",
              "      <th>hp</th>\n",
              "      <th>drat</th>\n",
              "      <th>wt</th>\n",
              "      <th>qsec</th>\n",
              "      <th>vs</th>\n",
              "      <th>am</th>\n",
              "      <th>gear</th>\n",
              "      <th>carb</th>\n",
              "    </tr>\n",
              "  </thead>\n",
              "  <tbody>\n",
              "    <tr>\n",
              "      <th>0</th>\n",
              "      <td>Mazda RX4</td>\n",
              "      <td>21.0</td>\n",
              "      <td>6</td>\n",
              "      <td>160.0</td>\n",
              "      <td>110</td>\n",
              "      <td>3.90</td>\n",
              "      <td>2.620</td>\n",
              "      <td>16.46</td>\n",
              "      <td>0</td>\n",
              "      <td>1</td>\n",
              "      <td>4</td>\n",
              "      <td>4</td>\n",
              "    </tr>\n",
              "    <tr>\n",
              "      <th>1</th>\n",
              "      <td>Mazda RX4 Wag</td>\n",
              "      <td>21.0</td>\n",
              "      <td>6</td>\n",
              "      <td>160.0</td>\n",
              "      <td>110</td>\n",
              "      <td>3.90</td>\n",
              "      <td>2.875</td>\n",
              "      <td>17.02</td>\n",
              "      <td>0</td>\n",
              "      <td>1</td>\n",
              "      <td>4</td>\n",
              "      <td>4</td>\n",
              "    </tr>\n",
              "    <tr>\n",
              "      <th>2</th>\n",
              "      <td>Datsun 710</td>\n",
              "      <td>22.8</td>\n",
              "      <td>4</td>\n",
              "      <td>108.0</td>\n",
              "      <td>93</td>\n",
              "      <td>3.85</td>\n",
              "      <td>2.320</td>\n",
              "      <td>18.61</td>\n",
              "      <td>1</td>\n",
              "      <td>1</td>\n",
              "      <td>4</td>\n",
              "      <td>1</td>\n",
              "    </tr>\n",
              "    <tr>\n",
              "      <th>3</th>\n",
              "      <td>Hornet 4 Drive</td>\n",
              "      <td>21.4</td>\n",
              "      <td>6</td>\n",
              "      <td>258.0</td>\n",
              "      <td>110</td>\n",
              "      <td>3.08</td>\n",
              "      <td>3.215</td>\n",
              "      <td>19.44</td>\n",
              "      <td>1</td>\n",
              "      <td>0</td>\n",
              "      <td>3</td>\n",
              "      <td>1</td>\n",
              "    </tr>\n",
              "    <tr>\n",
              "      <th>4</th>\n",
              "      <td>Hornet Sportabout</td>\n",
              "      <td>18.7</td>\n",
              "      <td>8</td>\n",
              "      <td>360.0</td>\n",
              "      <td>175</td>\n",
              "      <td>3.15</td>\n",
              "      <td>3.440</td>\n",
              "      <td>17.02</td>\n",
              "      <td>0</td>\n",
              "      <td>0</td>\n",
              "      <td>3</td>\n",
              "      <td>2</td>\n",
              "    </tr>\n",
              "  </tbody>\n",
              "</table>\n",
              "</div>\n",
              "    <div class=\"colab-df-buttons\">\n",
              "\n",
              "  <div class=\"colab-df-container\">\n",
              "    <button class=\"colab-df-convert\" onclick=\"convertToInteractive('df-b045c65b-c4bd-4892-8e2e-1f331eacf9c6')\"\n",
              "            title=\"Convert this dataframe to an interactive table.\"\n",
              "            style=\"display:none;\">\n",
              "\n",
              "  <svg xmlns=\"http://www.w3.org/2000/svg\" height=\"24px\" viewBox=\"0 -960 960 960\">\n",
              "    <path d=\"M120-120v-720h720v720H120Zm60-500h600v-160H180v160Zm220 220h160v-160H400v160Zm0 220h160v-160H400v160ZM180-400h160v-160H180v160Zm440 0h160v-160H620v160ZM180-180h160v-160H180v160Zm440 0h160v-160H620v160Z\"/>\n",
              "  </svg>\n",
              "    </button>\n",
              "\n",
              "  <style>\n",
              "    .colab-df-container {\n",
              "      display:flex;\n",
              "      gap: 12px;\n",
              "    }\n",
              "\n",
              "    .colab-df-convert {\n",
              "      background-color: #E8F0FE;\n",
              "      border: none;\n",
              "      border-radius: 50%;\n",
              "      cursor: pointer;\n",
              "      display: none;\n",
              "      fill: #1967D2;\n",
              "      height: 32px;\n",
              "      padding: 0 0 0 0;\n",
              "      width: 32px;\n",
              "    }\n",
              "\n",
              "    .colab-df-convert:hover {\n",
              "      background-color: #E2EBFA;\n",
              "      box-shadow: 0px 1px 2px rgba(60, 64, 67, 0.3), 0px 1px 3px 1px rgba(60, 64, 67, 0.15);\n",
              "      fill: #174EA6;\n",
              "    }\n",
              "\n",
              "    .colab-df-buttons div {\n",
              "      margin-bottom: 4px;\n",
              "    }\n",
              "\n",
              "    [theme=dark] .colab-df-convert {\n",
              "      background-color: #3B4455;\n",
              "      fill: #D2E3FC;\n",
              "    }\n",
              "\n",
              "    [theme=dark] .colab-df-convert:hover {\n",
              "      background-color: #434B5C;\n",
              "      box-shadow: 0px 1px 3px 1px rgba(0, 0, 0, 0.15);\n",
              "      filter: drop-shadow(0px 1px 2px rgba(0, 0, 0, 0.3));\n",
              "      fill: #FFFFFF;\n",
              "    }\n",
              "  </style>\n",
              "\n",
              "    <script>\n",
              "      const buttonEl =\n",
              "        document.querySelector('#df-b045c65b-c4bd-4892-8e2e-1f331eacf9c6 button.colab-df-convert');\n",
              "      buttonEl.style.display =\n",
              "        google.colab.kernel.accessAllowed ? 'block' : 'none';\n",
              "\n",
              "      async function convertToInteractive(key) {\n",
              "        const element = document.querySelector('#df-b045c65b-c4bd-4892-8e2e-1f331eacf9c6');\n",
              "        const dataTable =\n",
              "          await google.colab.kernel.invokeFunction('convertToInteractive',\n",
              "                                                    [key], {});\n",
              "        if (!dataTable) return;\n",
              "\n",
              "        const docLinkHtml = 'Like what you see? Visit the ' +\n",
              "          '<a target=\"_blank\" href=https://colab.research.google.com/notebooks/data_table.ipynb>data table notebook</a>'\n",
              "          + ' to learn more about interactive tables.';\n",
              "        element.innerHTML = '';\n",
              "        dataTable['output_type'] = 'display_data';\n",
              "        await google.colab.output.renderOutput(dataTable, element);\n",
              "        const docLink = document.createElement('div');\n",
              "        docLink.innerHTML = docLinkHtml;\n",
              "        element.appendChild(docLink);\n",
              "      }\n",
              "    </script>\n",
              "  </div>\n",
              "\n",
              "\n",
              "<div id=\"df-ff9772e7-7f72-4a96-8b89-089800a85edd\">\n",
              "  <button class=\"colab-df-quickchart\" onclick=\"quickchart('df-ff9772e7-7f72-4a96-8b89-089800a85edd')\"\n",
              "            title=\"Suggest charts\"\n",
              "            style=\"display:none;\">\n",
              "\n",
              "<svg xmlns=\"http://www.w3.org/2000/svg\" height=\"24px\"viewBox=\"0 0 24 24\"\n",
              "     width=\"24px\">\n",
              "    <g>\n",
              "        <path d=\"M19 3H5c-1.1 0-2 .9-2 2v14c0 1.1.9 2 2 2h14c1.1 0 2-.9 2-2V5c0-1.1-.9-2-2-2zM9 17H7v-7h2v7zm4 0h-2V7h2v10zm4 0h-2v-4h2v4z\"/>\n",
              "    </g>\n",
              "</svg>\n",
              "  </button>\n",
              "\n",
              "<style>\n",
              "  .colab-df-quickchart {\n",
              "      --bg-color: #E8F0FE;\n",
              "      --fill-color: #1967D2;\n",
              "      --hover-bg-color: #E2EBFA;\n",
              "      --hover-fill-color: #174EA6;\n",
              "      --disabled-fill-color: #AAA;\n",
              "      --disabled-bg-color: #DDD;\n",
              "  }\n",
              "\n",
              "  [theme=dark] .colab-df-quickchart {\n",
              "      --bg-color: #3B4455;\n",
              "      --fill-color: #D2E3FC;\n",
              "      --hover-bg-color: #434B5C;\n",
              "      --hover-fill-color: #FFFFFF;\n",
              "      --disabled-bg-color: #3B4455;\n",
              "      --disabled-fill-color: #666;\n",
              "  }\n",
              "\n",
              "  .colab-df-quickchart {\n",
              "    background-color: var(--bg-color);\n",
              "    border: none;\n",
              "    border-radius: 50%;\n",
              "    cursor: pointer;\n",
              "    display: none;\n",
              "    fill: var(--fill-color);\n",
              "    height: 32px;\n",
              "    padding: 0;\n",
              "    width: 32px;\n",
              "  }\n",
              "\n",
              "  .colab-df-quickchart:hover {\n",
              "    background-color: var(--hover-bg-color);\n",
              "    box-shadow: 0 1px 2px rgba(60, 64, 67, 0.3), 0 1px 3px 1px rgba(60, 64, 67, 0.15);\n",
              "    fill: var(--button-hover-fill-color);\n",
              "  }\n",
              "\n",
              "  .colab-df-quickchart-complete:disabled,\n",
              "  .colab-df-quickchart-complete:disabled:hover {\n",
              "    background-color: var(--disabled-bg-color);\n",
              "    fill: var(--disabled-fill-color);\n",
              "    box-shadow: none;\n",
              "  }\n",
              "\n",
              "  .colab-df-spinner {\n",
              "    border: 2px solid var(--fill-color);\n",
              "    border-color: transparent;\n",
              "    border-bottom-color: var(--fill-color);\n",
              "    animation:\n",
              "      spin 1s steps(1) infinite;\n",
              "  }\n",
              "\n",
              "  @keyframes spin {\n",
              "    0% {\n",
              "      border-color: transparent;\n",
              "      border-bottom-color: var(--fill-color);\n",
              "      border-left-color: var(--fill-color);\n",
              "    }\n",
              "    20% {\n",
              "      border-color: transparent;\n",
              "      border-left-color: var(--fill-color);\n",
              "      border-top-color: var(--fill-color);\n",
              "    }\n",
              "    30% {\n",
              "      border-color: transparent;\n",
              "      border-left-color: var(--fill-color);\n",
              "      border-top-color: var(--fill-color);\n",
              "      border-right-color: var(--fill-color);\n",
              "    }\n",
              "    40% {\n",
              "      border-color: transparent;\n",
              "      border-right-color: var(--fill-color);\n",
              "      border-top-color: var(--fill-color);\n",
              "    }\n",
              "    60% {\n",
              "      border-color: transparent;\n",
              "      border-right-color: var(--fill-color);\n",
              "    }\n",
              "    80% {\n",
              "      border-color: transparent;\n",
              "      border-right-color: var(--fill-color);\n",
              "      border-bottom-color: var(--fill-color);\n",
              "    }\n",
              "    90% {\n",
              "      border-color: transparent;\n",
              "      border-bottom-color: var(--fill-color);\n",
              "    }\n",
              "  }\n",
              "</style>\n",
              "\n",
              "  <script>\n",
              "    async function quickchart(key) {\n",
              "      const quickchartButtonEl =\n",
              "        document.querySelector('#' + key + ' button');\n",
              "      quickchartButtonEl.disabled = true;  // To prevent multiple clicks.\n",
              "      quickchartButtonEl.classList.add('colab-df-spinner');\n",
              "      try {\n",
              "        const charts = await google.colab.kernel.invokeFunction(\n",
              "            'suggestCharts', [key], {});\n",
              "      } catch (error) {\n",
              "        console.error('Error during call to suggestCharts:', error);\n",
              "      }\n",
              "      quickchartButtonEl.classList.remove('colab-df-spinner');\n",
              "      quickchartButtonEl.classList.add('colab-df-quickchart-complete');\n",
              "    }\n",
              "    (() => {\n",
              "      let quickchartButtonEl =\n",
              "        document.querySelector('#df-ff9772e7-7f72-4a96-8b89-089800a85edd button');\n",
              "      quickchartButtonEl.style.display =\n",
              "        google.colab.kernel.accessAllowed ? 'block' : 'none';\n",
              "    })();\n",
              "  </script>\n",
              "</div>\n",
              "    </div>\n",
              "  </div>\n"
            ]
          },
          "metadata": {},
          "execution_count": 2
        }
      ]
    },
    {
      "cell_type": "code",
      "execution_count": null,
      "metadata": {
        "id": "s6voxIvpGGoS",
        "colab": {
          "base_uri": "https://localhost:8080/"
        },
        "outputId": "03271b47-a589-4b1f-bb5d-8ec24669e463"
      },
      "outputs": [
        {
          "output_type": "stream",
          "name": "stdout",
          "text": [
            "15\n"
          ]
        }
      ],
      "source": [
        "# 문제 1\n",
        "# mpg 변수의 제 1 사분위수를 구하고 정수값으로 출력\n",
        "Q1 = df['mpg'].quantile(0.25)\n",
        "print(round(Q1))"
      ]
    },
    {
      "cell_type": "code",
      "source": [
        "# 문제 2\n",
        "# mpg 값이 19이상 21이하인 데이터의 수를 구하시오\n",
        "\n",
        "print(len(df[(df['mpg']>=19) & (df['mpg']<=21)]))"
      ],
      "metadata": {
        "id": "SRec6Oo7GgM3",
        "colab": {
          "base_uri": "https://localhost:8080/"
        },
        "outputId": "5de7ad8f-a0df-4032-f790-6377ea75dc18"
      },
      "execution_count": null,
      "outputs": [
        {
          "output_type": "stream",
          "name": "stdout",
          "text": [
            "5\n"
          ]
        }
      ]
    },
    {
      "cell_type": "code",
      "source": [
        "# 문제 3\n",
        "# hp 변수의 IQR 값을 구하시오\n",
        "\n",
        "Q1 = df['hp'].quantile(0.25)\n",
        "Q3 = df['hp'].quantile(0.75)\n",
        "IQR = Q3 - Q1\n",
        "print(IQR)"
      ],
      "metadata": {
        "id": "LYnxxvHmGwMP",
        "colab": {
          "base_uri": "https://localhost:8080/"
        },
        "outputId": "c18aa7e4-53f2-4679-ea02-b0e1d0f9b4dd"
      },
      "execution_count": null,
      "outputs": [
        {
          "output_type": "stream",
          "name": "stdout",
          "text": [
            "83.5\n"
          ]
        }
      ]
    },
    {
      "cell_type": "code",
      "source": [
        "# 문제 4\n",
        "# wt 변수의 상위 10개 값의 총합을 구하여 소수점을 버리고 정수로 출력하시오.\n",
        "top10 = df.sort_values('wt', ascending=False) # 내림차순 : ascending=False\n",
        "sum_top10 = sum(top10['wt'].head(10)) # 상위 10개만 더함\n",
        "print(int(sum_top10))"
      ],
      "metadata": {
        "id": "PkEL-OAjGwJq",
        "colab": {
          "base_uri": "https://localhost:8080/"
        },
        "outputId": "640fbc52-4a74-42c0-ddbc-3cd1844bfbed"
      },
      "execution_count": null,
      "outputs": [
        {
          "output_type": "stream",
          "name": "stdout",
          "text": [
            "42\n"
          ]
        }
      ]
    },
    {
      "cell_type": "code",
      "source": [
        "df.head()"
      ],
      "metadata": {
        "colab": {
          "base_uri": "https://localhost:8080/",
          "height": 206
        },
        "id": "5CcxoOmf01Rw",
        "outputId": "23d82415-f13d-4f27-bf52-05b45466cc9e"
      },
      "execution_count": null,
      "outputs": [
        {
          "output_type": "execute_result",
          "data": {
            "text/plain": [
              "                 car   mpg  cyl   disp   hp  drat     wt   qsec  vs  am  gear  \\\n",
              "0          Mazda RX4  21.0    6  160.0  110  3.90  2.620  16.46   0   1     4   \n",
              "1      Mazda RX4 Wag  21.0    6  160.0  110  3.90  2.875  17.02   0   1     4   \n",
              "2         Datsun 710  22.8    4  108.0   93  3.85  2.320  18.61   1   1     4   \n",
              "3     Hornet 4 Drive  21.4    6  258.0  110  3.08  3.215  19.44   1   0     3   \n",
              "4  Hornet Sportabout  18.7    8  360.0  175  3.15  3.440  17.02   0   0     3   \n",
              "\n",
              "   carb  \n",
              "0     4  \n",
              "1     4  \n",
              "2     1  \n",
              "3     1  \n",
              "4     2  "
            ],
            "text/html": [
              "\n",
              "  <div id=\"df-30388d52-f69a-4d62-bde0-a77cf112eb61\" class=\"colab-df-container\">\n",
              "    <div>\n",
              "<style scoped>\n",
              "    .dataframe tbody tr th:only-of-type {\n",
              "        vertical-align: middle;\n",
              "    }\n",
              "\n",
              "    .dataframe tbody tr th {\n",
              "        vertical-align: top;\n",
              "    }\n",
              "\n",
              "    .dataframe thead th {\n",
              "        text-align: right;\n",
              "    }\n",
              "</style>\n",
              "<table border=\"1\" class=\"dataframe\">\n",
              "  <thead>\n",
              "    <tr style=\"text-align: right;\">\n",
              "      <th></th>\n",
              "      <th>car</th>\n",
              "      <th>mpg</th>\n",
              "      <th>cyl</th>\n",
              "      <th>disp</th>\n",
              "      <th>hp</th>\n",
              "      <th>drat</th>\n",
              "      <th>wt</th>\n",
              "      <th>qsec</th>\n",
              "      <th>vs</th>\n",
              "      <th>am</th>\n",
              "      <th>gear</th>\n",
              "      <th>carb</th>\n",
              "    </tr>\n",
              "  </thead>\n",
              "  <tbody>\n",
              "    <tr>\n",
              "      <th>0</th>\n",
              "      <td>Mazda RX4</td>\n",
              "      <td>21.0</td>\n",
              "      <td>6</td>\n",
              "      <td>160.0</td>\n",
              "      <td>110</td>\n",
              "      <td>3.90</td>\n",
              "      <td>2.620</td>\n",
              "      <td>16.46</td>\n",
              "      <td>0</td>\n",
              "      <td>1</td>\n",
              "      <td>4</td>\n",
              "      <td>4</td>\n",
              "    </tr>\n",
              "    <tr>\n",
              "      <th>1</th>\n",
              "      <td>Mazda RX4 Wag</td>\n",
              "      <td>21.0</td>\n",
              "      <td>6</td>\n",
              "      <td>160.0</td>\n",
              "      <td>110</td>\n",
              "      <td>3.90</td>\n",
              "      <td>2.875</td>\n",
              "      <td>17.02</td>\n",
              "      <td>0</td>\n",
              "      <td>1</td>\n",
              "      <td>4</td>\n",
              "      <td>4</td>\n",
              "    </tr>\n",
              "    <tr>\n",
              "      <th>2</th>\n",
              "      <td>Datsun 710</td>\n",
              "      <td>22.8</td>\n",
              "      <td>4</td>\n",
              "      <td>108.0</td>\n",
              "      <td>93</td>\n",
              "      <td>3.85</td>\n",
              "      <td>2.320</td>\n",
              "      <td>18.61</td>\n",
              "      <td>1</td>\n",
              "      <td>1</td>\n",
              "      <td>4</td>\n",
              "      <td>1</td>\n",
              "    </tr>\n",
              "    <tr>\n",
              "      <th>3</th>\n",
              "      <td>Hornet 4 Drive</td>\n",
              "      <td>21.4</td>\n",
              "      <td>6</td>\n",
              "      <td>258.0</td>\n",
              "      <td>110</td>\n",
              "      <td>3.08</td>\n",
              "      <td>3.215</td>\n",
              "      <td>19.44</td>\n",
              "      <td>1</td>\n",
              "      <td>0</td>\n",
              "      <td>3</td>\n",
              "      <td>1</td>\n",
              "    </tr>\n",
              "    <tr>\n",
              "      <th>4</th>\n",
              "      <td>Hornet Sportabout</td>\n",
              "      <td>18.7</td>\n",
              "      <td>8</td>\n",
              "      <td>360.0</td>\n",
              "      <td>175</td>\n",
              "      <td>3.15</td>\n",
              "      <td>3.440</td>\n",
              "      <td>17.02</td>\n",
              "      <td>0</td>\n",
              "      <td>0</td>\n",
              "      <td>3</td>\n",
              "      <td>2</td>\n",
              "    </tr>\n",
              "  </tbody>\n",
              "</table>\n",
              "</div>\n",
              "    <div class=\"colab-df-buttons\">\n",
              "\n",
              "  <div class=\"colab-df-container\">\n",
              "    <button class=\"colab-df-convert\" onclick=\"convertToInteractive('df-30388d52-f69a-4d62-bde0-a77cf112eb61')\"\n",
              "            title=\"Convert this dataframe to an interactive table.\"\n",
              "            style=\"display:none;\">\n",
              "\n",
              "  <svg xmlns=\"http://www.w3.org/2000/svg\" height=\"24px\" viewBox=\"0 -960 960 960\">\n",
              "    <path d=\"M120-120v-720h720v720H120Zm60-500h600v-160H180v160Zm220 220h160v-160H400v160Zm0 220h160v-160H400v160ZM180-400h160v-160H180v160Zm440 0h160v-160H620v160ZM180-180h160v-160H180v160Zm440 0h160v-160H620v160Z\"/>\n",
              "  </svg>\n",
              "    </button>\n",
              "\n",
              "  <style>\n",
              "    .colab-df-container {\n",
              "      display:flex;\n",
              "      gap: 12px;\n",
              "    }\n",
              "\n",
              "    .colab-df-convert {\n",
              "      background-color: #E8F0FE;\n",
              "      border: none;\n",
              "      border-radius: 50%;\n",
              "      cursor: pointer;\n",
              "      display: none;\n",
              "      fill: #1967D2;\n",
              "      height: 32px;\n",
              "      padding: 0 0 0 0;\n",
              "      width: 32px;\n",
              "    }\n",
              "\n",
              "    .colab-df-convert:hover {\n",
              "      background-color: #E2EBFA;\n",
              "      box-shadow: 0px 1px 2px rgba(60, 64, 67, 0.3), 0px 1px 3px 1px rgba(60, 64, 67, 0.15);\n",
              "      fill: #174EA6;\n",
              "    }\n",
              "\n",
              "    .colab-df-buttons div {\n",
              "      margin-bottom: 4px;\n",
              "    }\n",
              "\n",
              "    [theme=dark] .colab-df-convert {\n",
              "      background-color: #3B4455;\n",
              "      fill: #D2E3FC;\n",
              "    }\n",
              "\n",
              "    [theme=dark] .colab-df-convert:hover {\n",
              "      background-color: #434B5C;\n",
              "      box-shadow: 0px 1px 3px 1px rgba(0, 0, 0, 0.15);\n",
              "      filter: drop-shadow(0px 1px 2px rgba(0, 0, 0, 0.3));\n",
              "      fill: #FFFFFF;\n",
              "    }\n",
              "  </style>\n",
              "\n",
              "    <script>\n",
              "      const buttonEl =\n",
              "        document.querySelector('#df-30388d52-f69a-4d62-bde0-a77cf112eb61 button.colab-df-convert');\n",
              "      buttonEl.style.display =\n",
              "        google.colab.kernel.accessAllowed ? 'block' : 'none';\n",
              "\n",
              "      async function convertToInteractive(key) {\n",
              "        const element = document.querySelector('#df-30388d52-f69a-4d62-bde0-a77cf112eb61');\n",
              "        const dataTable =\n",
              "          await google.colab.kernel.invokeFunction('convertToInteractive',\n",
              "                                                    [key], {});\n",
              "        if (!dataTable) return;\n",
              "\n",
              "        const docLinkHtml = 'Like what you see? Visit the ' +\n",
              "          '<a target=\"_blank\" href=https://colab.research.google.com/notebooks/data_table.ipynb>data table notebook</a>'\n",
              "          + ' to learn more about interactive tables.';\n",
              "        element.innerHTML = '';\n",
              "        dataTable['output_type'] = 'display_data';\n",
              "        await google.colab.output.renderOutput(dataTable, element);\n",
              "        const docLink = document.createElement('div');\n",
              "        docLink.innerHTML = docLinkHtml;\n",
              "        element.appendChild(docLink);\n",
              "      }\n",
              "    </script>\n",
              "  </div>\n",
              "\n",
              "\n",
              "<div id=\"df-ddef6cc1-0ad6-4ab2-829a-aecd46d6dfc4\">\n",
              "  <button class=\"colab-df-quickchart\" onclick=\"quickchart('df-ddef6cc1-0ad6-4ab2-829a-aecd46d6dfc4')\"\n",
              "            title=\"Suggest charts\"\n",
              "            style=\"display:none;\">\n",
              "\n",
              "<svg xmlns=\"http://www.w3.org/2000/svg\" height=\"24px\"viewBox=\"0 0 24 24\"\n",
              "     width=\"24px\">\n",
              "    <g>\n",
              "        <path d=\"M19 3H5c-1.1 0-2 .9-2 2v14c0 1.1.9 2 2 2h14c1.1 0 2-.9 2-2V5c0-1.1-.9-2-2-2zM9 17H7v-7h2v7zm4 0h-2V7h2v10zm4 0h-2v-4h2v4z\"/>\n",
              "    </g>\n",
              "</svg>\n",
              "  </button>\n",
              "\n",
              "<style>\n",
              "  .colab-df-quickchart {\n",
              "      --bg-color: #E8F0FE;\n",
              "      --fill-color: #1967D2;\n",
              "      --hover-bg-color: #E2EBFA;\n",
              "      --hover-fill-color: #174EA6;\n",
              "      --disabled-fill-color: #AAA;\n",
              "      --disabled-bg-color: #DDD;\n",
              "  }\n",
              "\n",
              "  [theme=dark] .colab-df-quickchart {\n",
              "      --bg-color: #3B4455;\n",
              "      --fill-color: #D2E3FC;\n",
              "      --hover-bg-color: #434B5C;\n",
              "      --hover-fill-color: #FFFFFF;\n",
              "      --disabled-bg-color: #3B4455;\n",
              "      --disabled-fill-color: #666;\n",
              "  }\n",
              "\n",
              "  .colab-df-quickchart {\n",
              "    background-color: var(--bg-color);\n",
              "    border: none;\n",
              "    border-radius: 50%;\n",
              "    cursor: pointer;\n",
              "    display: none;\n",
              "    fill: var(--fill-color);\n",
              "    height: 32px;\n",
              "    padding: 0;\n",
              "    width: 32px;\n",
              "  }\n",
              "\n",
              "  .colab-df-quickchart:hover {\n",
              "    background-color: var(--hover-bg-color);\n",
              "    box-shadow: 0 1px 2px rgba(60, 64, 67, 0.3), 0 1px 3px 1px rgba(60, 64, 67, 0.15);\n",
              "    fill: var(--button-hover-fill-color);\n",
              "  }\n",
              "\n",
              "  .colab-df-quickchart-complete:disabled,\n",
              "  .colab-df-quickchart-complete:disabled:hover {\n",
              "    background-color: var(--disabled-bg-color);\n",
              "    fill: var(--disabled-fill-color);\n",
              "    box-shadow: none;\n",
              "  }\n",
              "\n",
              "  .colab-df-spinner {\n",
              "    border: 2px solid var(--fill-color);\n",
              "    border-color: transparent;\n",
              "    border-bottom-color: var(--fill-color);\n",
              "    animation:\n",
              "      spin 1s steps(1) infinite;\n",
              "  }\n",
              "\n",
              "  @keyframes spin {\n",
              "    0% {\n",
              "      border-color: transparent;\n",
              "      border-bottom-color: var(--fill-color);\n",
              "      border-left-color: var(--fill-color);\n",
              "    }\n",
              "    20% {\n",
              "      border-color: transparent;\n",
              "      border-left-color: var(--fill-color);\n",
              "      border-top-color: var(--fill-color);\n",
              "    }\n",
              "    30% {\n",
              "      border-color: transparent;\n",
              "      border-left-color: var(--fill-color);\n",
              "      border-top-color: var(--fill-color);\n",
              "      border-right-color: var(--fill-color);\n",
              "    }\n",
              "    40% {\n",
              "      border-color: transparent;\n",
              "      border-right-color: var(--fill-color);\n",
              "      border-top-color: var(--fill-color);\n",
              "    }\n",
              "    60% {\n",
              "      border-color: transparent;\n",
              "      border-right-color: var(--fill-color);\n",
              "    }\n",
              "    80% {\n",
              "      border-color: transparent;\n",
              "      border-right-color: var(--fill-color);\n",
              "      border-bottom-color: var(--fill-color);\n",
              "    }\n",
              "    90% {\n",
              "      border-color: transparent;\n",
              "      border-bottom-color: var(--fill-color);\n",
              "    }\n",
              "  }\n",
              "</style>\n",
              "\n",
              "  <script>\n",
              "    async function quickchart(key) {\n",
              "      const quickchartButtonEl =\n",
              "        document.querySelector('#' + key + ' button');\n",
              "      quickchartButtonEl.disabled = true;  // To prevent multiple clicks.\n",
              "      quickchartButtonEl.classList.add('colab-df-spinner');\n",
              "      try {\n",
              "        const charts = await google.colab.kernel.invokeFunction(\n",
              "            'suggestCharts', [key], {});\n",
              "      } catch (error) {\n",
              "        console.error('Error during call to suggestCharts:', error);\n",
              "      }\n",
              "      quickchartButtonEl.classList.remove('colab-df-spinner');\n",
              "      quickchartButtonEl.classList.add('colab-df-quickchart-complete');\n",
              "    }\n",
              "    (() => {\n",
              "      let quickchartButtonEl =\n",
              "        document.querySelector('#df-ddef6cc1-0ad6-4ab2-829a-aecd46d6dfc4 button');\n",
              "      quickchartButtonEl.style.display =\n",
              "        google.colab.kernel.accessAllowed ? 'block' : 'none';\n",
              "    })();\n",
              "  </script>\n",
              "</div>\n",
              "    </div>\n",
              "  </div>\n"
            ]
          },
          "metadata": {},
          "execution_count": 7
        }
      ]
    },
    {
      "cell_type": "code",
      "source": [
        "# 문제 5\n",
        "# 전체 자동차에서 cyl가 6인 비율이 얼마인지 반올림하여 소수점 첫째자리까지 출력하시오.\n",
        "cyl_6 = len(df[df['cyl'] == 6])\n",
        "cyl_total = len(df)\n",
        "print(cyl_6)\n",
        "print(cyl_total)\n",
        "print(round(cyl_6/cyl_total, 1))"
      ],
      "metadata": {
        "id": "ufeqU91OGwHW",
        "colab": {
          "base_uri": "https://localhost:8080/"
        },
        "outputId": "a2040c46-a29d-4a05-cc2d-7b4add69466b"
      },
      "execution_count": null,
      "outputs": [
        {
          "output_type": "stream",
          "name": "stdout",
          "text": [
            "7\n",
            "32\n",
            "0.2\n"
          ]
        }
      ]
    },
    {
      "cell_type": "code",
      "source": [
        "# 문제 6\n",
        "# 첫번째 행부터 순서대로 10개 뽑은 후, mpg 열의 평균값을 반올림하여 정수로 출력하시오.\n",
        "\n",
        "df10 = df.head(10)\n",
        "mpg_mean = df10['mpg'].mean()\n",
        "print(round(mpg_mean))"
      ],
      "metadata": {
        "id": "3NByuRxtGwFS",
        "colab": {
          "base_uri": "https://localhost:8080/"
        },
        "outputId": "fa9039a7-2a99-4ee7-97ed-ba2532c356c0"
      },
      "execution_count": null,
      "outputs": [
        {
          "output_type": "stream",
          "name": "stdout",
          "text": [
            "20\n"
          ]
        }
      ]
    },
    {
      "cell_type": "code",
      "source": [
        "# 문제 7\n",
        "# 첫번째 행부터 순서대로 50%까지 데이터를 뽑아 wt 변수의 중앙값을 구하시오.\n",
        "\n",
        "p50 = int(len(df)*0.5)\n",
        "df50 = df[:p50]\n",
        "print(df50['wt'].median())"
      ],
      "metadata": {
        "id": "gMmweHwhGwDL",
        "colab": {
          "base_uri": "https://localhost:8080/"
        },
        "outputId": "fb7fe64c-1661-4100-eeac-9e9686944668"
      },
      "execution_count": null,
      "outputs": [
        {
          "output_type": "stream",
          "name": "stdout",
          "text": [
            "3.44\n"
          ]
        }
      ]
    },
    {
      "cell_type": "code",
      "source": [
        "# 문제 8\n",
        "# 결측값이 있는 데이터의 수를 출력하시오.\n",
        "# 데이터 생성(수정금지)\n",
        "df = pd.DataFrame({\n",
        "'날짜': ['20220103','20220105', None,'20230127','20220203', '20220205','20230210','20230223','20230312','20230422','20220505','20230511'],\n",
        "'제품' : ['A','B', None, 'B', 'A', None,'A', 'B', 'A', 'B', 'A', 'A'],\n",
        "'판매수': [3, None, 5, 10, 10, 10, 15, 15, 20, None, 30, 40],\n",
        "'개당수익': [300, 400, 500, 600, 400, 500, 500, 600, 600, 700, 600, 600] })\n",
        "\n",
        "print(sum(df.isnull().sum()))"
      ],
      "metadata": {
        "id": "yiwikFZqGwA5",
        "colab": {
          "base_uri": "https://localhost:8080/"
        },
        "outputId": "c9cea139-d069-48d6-b7f9-a79cd9467d29"
      },
      "execution_count": null,
      "outputs": [
        {
          "output_type": "stream",
          "name": "stdout",
          "text": [
            "5\n"
          ]
        }
      ]
    },
    {
      "cell_type": "code",
      "source": [
        "# 문제 9\n",
        "# '판매수' 컬럼의 결측값을 판매수의 중앙값으로 대체하고, 판매수의 평균값을 반올림하여 정수로 출력하시오.\n",
        "# 데이터 생성(수정금지)\n",
        "\n",
        "df = pd.DataFrame({\n",
        "'날짜': ['20220103','20220105', None,'20230127','20220203', '20220205','20230210','20230223','20230312','20230422','20220505','20230511'],\n",
        "'제품' : ['A','B', None, 'B', 'A', None,'A', 'B', 'A', 'B', 'A', 'A'],\n",
        "'판매수': [3, None, 5, 10, 10, 10, 15, 15, 20, None, 30, 40],\n",
        "'개당수익': [300, 400, 500, 600, 400, 500, 500, 600, 600, 700, 600, 600] })\n",
        "\n",
        "Q2 = df['판매수'].median()\n",
        "df['판매수'] = df['판매수'].fillna(Q2)\n",
        "mean = df['판매수'].mean()\n",
        "print(round(mean))"
      ],
      "metadata": {
        "id": "OF45fzJDl7Vu",
        "colab": {
          "base_uri": "https://localhost:8080/"
        },
        "outputId": "8537c1f9-e666-4df3-b21a-ee7a0e263a0a"
      },
      "execution_count": null,
      "outputs": [
        {
          "output_type": "stream",
          "name": "stdout",
          "text": [
            "15\n"
          ]
        }
      ]
    },
    {
      "cell_type": "code",
      "source": [
        "# 문제 10\n",
        "# 판매수 컬럼에 결측치가 있는 행을 제거하고,\n",
        "# 첫번째 행부터 순서대로 50%까지의 데이터를 추출하여\n",
        "# 판매수 변수의 Q1(제1사분위수)값을 반올림하여 정수로 출력하시오.\n",
        "# 데이터 (수정금지)\n",
        "df = pd.DataFrame({\n",
        "'날짜': ['20220103','20220105', None,'20230127','20220203', '20220205','20230210','20230223','20230312','20230422','20220505','20230511'],\n",
        "'제품' : ['A','B', None, 'B', 'A', None,'A', 'B', 'A', 'B', 'A', 'A'],\n",
        "'판매수': [3, None, 5, 10, 10, 10, 15, 15, 20, None, 30, 40],\n",
        "'개당수익': [300, 400, 500, 600, 400, 500, 500, 600, 600, 700, 600, 600] })\n",
        "\n",
        "df = df['판매수'].dropna()\n",
        "\n",
        "p50 = int(len(df)*0.5)\n",
        "df = df[:p50]\n",
        "print(round(df.quantile(0.25)))"
      ],
      "metadata": {
        "id": "Zi394C-Kl7Tf",
        "colab": {
          "base_uri": "https://localhost:8080/"
        },
        "outputId": "dcd3feec-a63f-4bf5-d9ba-24c59047577b"
      },
      "execution_count": null,
      "outputs": [
        {
          "output_type": "stream",
          "name": "stdout",
          "text": [
            "5\n"
          ]
        }
      ]
    },
    {
      "cell_type": "code",
      "source": [
        "# 문제 11\n",
        "# cyl가 4인 자동차와 6인 자동차 그룹의 mpg 평균값 차이를, 절대값으로 반올림하여 정수로 출력하시오.\n",
        "\n",
        "df = pd.read_csv('/content/mtcars.csv')\n",
        "\n",
        "cyl_4 = (df['cyl'] == 4)\n",
        "cyl_6 = (df['cyl'] == 6)\n",
        "mpg_4_mean = df[cyl_4]['mpg'].mean()\n",
        "mpg_6_mean = df[cyl_6]['mpg'].mean()\n",
        "print(round(abs(mpg_4_mean-mpg_6_mean)))"
      ],
      "metadata": {
        "id": "H4KMRpRkl7RH",
        "colab": {
          "base_uri": "https://localhost:8080/"
        },
        "outputId": "6b6c42f1-1b5a-47af-9153-882f28534b70"
      },
      "execution_count": null,
      "outputs": [
        {
          "output_type": "stream",
          "name": "stdout",
          "text": [
            "7\n"
          ]
        }
      ]
    },
    {
      "cell_type": "code",
      "source": [
        "# 문제 12\n",
        "# hp 변수에 대해 데이터표준화(Z-score)를 진행하고 이상치의 수를 구하시오.\n",
        "# (단, 이상치는 Z값이 1.5를 초과하거나 -1.5 미만인 값이다)\n",
        "\n",
        "df = pd.read_csv('/content/mtcars.csv')\n",
        "\n",
        "hp_mean = df['hp'].mean()\n",
        "hp_std = df['hp'].std()\n",
        "df['zscore'] = (df['hp'] - hp_mean) / hp_std\n",
        "\n",
        "cond1 = (df['zscore']>1.5)\n",
        "cond2 = (df['zscore']<-1.5)\n",
        "print(len(df[cond1]) + len(df[cond2]))"
      ],
      "metadata": {
        "id": "3w2498Lhl7Pn",
        "colab": {
          "base_uri": "https://localhost:8080/"
        },
        "outputId": "fe1d8e5e-68c1-47d2-d55a-850bfe4dd47c"
      },
      "execution_count": null,
      "outputs": [
        {
          "output_type": "stream",
          "name": "stdout",
          "text": [
            "2\n"
          ]
        }
      ]
    },
    {
      "cell_type": "code",
      "source": [
        "# 문제 13\n",
        "# mpg 컬럼을 최소최대 Scaling을 진행한 후 0.7보다 큰 값을 가지는 레코드 수를 구하라.\n",
        "import sklearn\n",
        "from sklearn.preprocessing import MinMaxScaler\n",
        "\n",
        "mscaler = MinMaxScaler()\n",
        "\n",
        "df['mpg'] = mscaler.fit_transform(df[['mpg']])\n",
        "print(len(df[df['mpg']>0.7]))"
      ],
      "metadata": {
        "id": "dQ_7maqpl7NA",
        "colab": {
          "base_uri": "https://localhost:8080/"
        },
        "outputId": "02d9e6e8-f143-49fb-8a10-d5182985698c"
      },
      "execution_count": null,
      "outputs": [
        {
          "output_type": "stream",
          "name": "stdout",
          "text": [
            "5\n"
          ]
        }
      ]
    },
    {
      "cell_type": "code",
      "source": [
        "# 문제 14\n",
        "# wt컬럼에 대해 상자그림 기준으로 이상치의 개수를 구하시오.\n",
        "# 박스플롯 -> quantile\n",
        "\n",
        "Q1 = df['wt'].quantile(0.25)\n",
        "Q3 = df['wt'].quantile(0.75)\n",
        "IQR = Q3 - Q1\n",
        "\n",
        "upper = Q3 + 1.5*IQR\n",
        "lower = Q1 - 1.5*IQR\n",
        "\n",
        "cond1 = (df['wt']>upper)\n",
        "cond2 = (df['wt']<lower)\n",
        "\n",
        "print(len(df[cond1]) + len(df[cond2]))"
      ],
      "metadata": {
        "id": "fOQIjK_Il7KN",
        "colab": {
          "base_uri": "https://localhost:8080/"
        },
        "outputId": "724864f1-b56c-4bec-a21d-15905f8dfe63"
      },
      "execution_count": null,
      "outputs": [
        {
          "output_type": "stream",
          "name": "stdout",
          "text": [
            "3\n"
          ]
        }
      ]
    },
    {
      "cell_type": "code",
      "source": [
        "# 문제 15\n",
        "# 판매수 컬럼의 결측치를 최소값으로 대체하고\n",
        "# 결측치가 있을 때와 최소값으로 대체했을 때 평균값의 차이를 절대값으로 반올림하여 정수로 출력하시오\n",
        "# 데이터 생성 (수정금지)\n",
        "df = pd.DataFrame({\n",
        "'날짜': ['20220103','20220105', None,'20230127','20220203', '20220205','20230210','20230223','20230312','20230422','20220505','20230511'],\n",
        "'제품' : ['A','B', None, 'B', 'A', None,'A', 'B', 'A', 'B', 'A', 'A'],\n",
        "'판매수': [3, None, 5, 10, 10, 10, 15, 15, 20, None, 30, 40],\n",
        "'개당수익': [300, 400, 500, 600, 400, 500, 500, 600, 600, 700, 600, 600] })\n",
        "\n",
        "df2 = df.copy()\n",
        "\n",
        "min_data = df['판매수'].min()\n",
        "df2['판매수'] = df2['판매수'].fillna(min_data)\n",
        "\n",
        "# print(df2['판매수'])\n",
        "\n",
        "# 결측치가 있을때 평균\n",
        "mean1 = df['판매수'].mean()\n",
        "\n",
        "# 결측치를 최소값으로 대체했을때 평균\n",
        "mean2 = df2['판매수'].mean()\n",
        "\n",
        "print(round(abs(mean1 - mean2)))"
      ],
      "metadata": {
        "id": "hPPKPAzrl7Hs",
        "colab": {
          "base_uri": "https://localhost:8080/"
        },
        "outputId": "e78cc78c-eaa1-4a2f-fe2b-7d1a29c3a2b8"
      },
      "execution_count": null,
      "outputs": [
        {
          "output_type": "stream",
          "name": "stdout",
          "text": [
            "2\n"
          ]
        }
      ]
    },
    {
      "cell_type": "code",
      "source": [
        "# 문제 16\n",
        "# vs변수가 0이 아닌 차량 중에 mpg 값이 가장 큰 차량의 hp 값을 출력하시오.\n",
        "\n",
        "df = pd.read_csv('/content/mtcars.csv')\n",
        "\n",
        "# vs 변수가 0이 아닌 차량\n",
        "df = df[df['vs'] != 0]\n",
        "\n",
        "# mpg가 가장 큰 순 -> 내림차순 ascending=False\n",
        "df = df.sort_values('mpg', ascending=False)\n",
        "\n",
        "print(df['hp'].iloc[0])"
      ],
      "metadata": {
        "id": "y-hUKYqgl7FV",
        "colab": {
          "base_uri": "https://localhost:8080/"
        },
        "outputId": "b027542d-e9d2-4754-a290-fbc396090fab"
      },
      "execution_count": null,
      "outputs": [
        {
          "output_type": "stream",
          "name": "stdout",
          "text": [
            "65\n"
          ]
        }
      ]
    },
    {
      "cell_type": "code",
      "source": [
        "# 문제 17\n",
        "# gear 변수값이 3, 4인 두 그룹의 hp 표준편차값의 차이를 절대값으로\n",
        "# 반올림하여 소수점 첫째자리까지 출력하시오.\n",
        "\n",
        "df = pd.read_csv('/content/mtcars.csv')\n",
        "\n",
        "# gear = 3 일 때 표준편차\n",
        "\n",
        "gear_3 = df[df['gear']==3]\n",
        "std_3 = gear_3['hp'].std()\n",
        "\n",
        "# gear = 4 일 때 표준편차\n",
        "gear_4 = df[df['gear']==4]\n",
        "std_4 = gear_4['hp'].std()\n",
        "\n",
        "print(round(abs(std_4 - std_3), 1))"
      ],
      "metadata": {
        "id": "irEQskFnmUDM",
        "colab": {
          "base_uri": "https://localhost:8080/"
        },
        "outputId": "d5327d6f-6843-4c41-f6a3-d387224f38c3"
      },
      "execution_count": null,
      "outputs": [
        {
          "output_type": "stream",
          "name": "stdout",
          "text": [
            "21.8\n"
          ]
        }
      ]
    },
    {
      "cell_type": "code",
      "source": [
        "# 문제 18\n",
        "# gear 변수의 값별로 그룹화하여 mpg평균값을 산출하고\n",
        "# 평균값이 높은 그룹의 mpg 제3사분위수 값을 구하시오.\n",
        "\n",
        "# gear, mpg 변수만 필터링\n",
        "df = df.loc[:, ['gear', 'mpg']]\n",
        "\n",
        "# gear 그룹화 groupby하여 mpg평균 값 프린트\n",
        "# print(df.groupby('gear').mean()) # gear==4 일 때 평균값이 제일 높다\n",
        "\n",
        "# gear==4인 그룹의 mpg Q3 값을 구한다\n",
        "gear4 = df[df['gear']==4]\n",
        "print(gear4['mpg'].quantile(0.75))\n"
      ],
      "metadata": {
        "id": "hDU7oeJfmUAy",
        "colab": {
          "base_uri": "https://localhost:8080/"
        },
        "outputId": "37c72c6a-4f4e-44ec-8a8a-5207e86b6fd0"
      },
      "execution_count": null,
      "outputs": [
        {
          "output_type": "stream",
          "name": "stdout",
          "text": [
            "28.075\n"
          ]
        }
      ]
    },
    {
      "cell_type": "code",
      "source": [
        "# 문제 19\n",
        "# hp 항목의 상위 7번째 값으로 상위 7개 값을 변환한 후,\n",
        "# hp가 150 이상인 데이터를 추출하여 hp의 평균값을 반올림하여 정수로 출력하시오.\n",
        "df = pd.read_csv('/content/mtcars.csv')\n",
        "\n",
        "# hp 내림차순\n",
        "df = df.sort_values('hp', ascending=False)\n",
        "# 정렬 후 인덱스 초기화\n",
        "df = df.reset_index(drop=True) # drop=True 는 기존 인덱스 삭제\n",
        "\n",
        "# 상위 7번째 값\n",
        "top7 = df['hp'].loc[6]\n",
        "\n",
        "# np.where\n",
        "import numpy as np\n",
        "df['hp'] = np.where(df['hp'] >= top7, top7, df['hp'])\n",
        "# np.where(조건, 조건에 해당할 때 값, 그렇지 않을 때 값)\n",
        "\n",
        "# hp 150이상인 데이터\n",
        "cond1 = (df['hp'] >= 150)\n",
        "df = df[cond1]\n",
        "print(round(df['hp'].mean()))"
      ],
      "metadata": {
        "id": "RYFoTiMUmT-M",
        "colab": {
          "base_uri": "https://localhost:8080/"
        },
        "outputId": "4336c91d-dd50-434c-9d66-146f36084e1c"
      },
      "execution_count": null,
      "outputs": [
        {
          "output_type": "stream",
          "name": "stdout",
          "text": [
            "187\n"
          ]
        }
      ]
    },
    {
      "cell_type": "code",
      "source": [
        "# 문제 20\n",
        "# car변수에 Merc 문구가 포함된 자동차의 mpg 평균값을 반올림하여 정수로 출력하시오.\n",
        "\n",
        "df2 = df[df['car'].str.contains(\"Merc\")] # 문자열 추출\n",
        "print(round(df2['mpg'].mean()))\n",
        "\n",
        "\n",
        "# 시험환경에서서 답구하는 방법(reset_index() 사용후)\n",
        "# df = df.reset_index()\n",
        "# df2 = df [ df['index'].str.contains(\"Merc\") ] # 문자열 추출 알아두기\n",
        "# print(round(df2['mpg'].mean()) )"
      ],
      "metadata": {
        "id": "3IgTYdXmmT7p",
        "colab": {
          "base_uri": "https://localhost:8080/"
        },
        "outputId": "bee4d3a4-4f8e-47bf-8c2a-06799c9bc152"
      },
      "execution_count": null,
      "outputs": [
        {
          "output_type": "stream",
          "name": "stdout",
          "text": [
            "16\n"
          ]
        }
      ]
    },
    {
      "cell_type": "code",
      "source": [
        "# 문제 21\n",
        "# '22년 1분기 매출액을 구하시오\n",
        "# (매출액 = 판매수*개당수익)\n",
        "# 데이터 생성(수정금지)\n",
        "df = pd.DataFrame({\n",
        "'날짜': ['20220103','20220105', '20230105','20230127','20220203', '20220205','20230210','20230223','20230312','20230422','20220505','20230511'],\n",
        "'제품' : ['A','B', 'A', 'B', 'A', 'B','A', 'B', 'A', 'B', 'A', 'A'],\n",
        "'판매수': [3, 5, 5, 10, 10, 10, 15, 15, 20, 25, 30, 40],\n",
        "'개당수익': [300, 400, 500, 600, 400, 500, 500, 600, 600, 700, 600, 600]})\n",
        "\n",
        "# 데이터 타입 datetime으로 변경\n",
        "df['날짜'] = pd.to_datetime(df['날짜'])\n",
        "# print(df.head())\n",
        "\n",
        "# 매출액 변수 추가하기\n",
        "df['매출액'] = df['판매수'] * df['개당수익']\n",
        "\n",
        "# 날짜 자체를 필터링 : df['변수'].between( , )\n",
        "df_after = df[df['날짜'].between('2022-01-01', '2022-03-31')]\n",
        "\n",
        "print(df_after['매출액'].sum())"
      ],
      "metadata": {
        "id": "kGLhMjc-l7C8",
        "colab": {
          "base_uri": "https://localhost:8080/"
        },
        "outputId": "a733f60b-dd4e-45cd-daf8-06a1bdbe0c1c"
      },
      "execution_count": null,
      "outputs": [
        {
          "output_type": "stream",
          "name": "stdout",
          "text": [
            "11900\n"
          ]
        }
      ]
    },
    {
      "cell_type": "code",
      "source": [
        "# 문제 22\n",
        "# '22년과 '23년의 총 매출액 차이를 절대값으로 구하시오.\n",
        "# (매출액 = 판매수*개당수익)\n",
        "# 데이터 생성(수정금지)\n",
        "\n",
        "df = pd.DataFrame({\n",
        "'날짜': ['20220103','20220105', '20230105','20230127','20220203', '20220205','20230210','20230223','20230312','20230422','20220505','20230511'],\n",
        "'제품' : ['A','B', 'A', 'B', 'A', 'B','A', 'B', 'A', 'B', 'A', 'A'],\n",
        "'판매수': [3, 5, 5, 10, 10, 10, 15, 15, 20, 25, 30, 40],\n",
        "'개당수익': [300, 400, 500, 600, 400, 500, 500, 600, 600, 700, 600, 600]})\n",
        "\n",
        "df.head()\n",
        "\n",
        "df['날짜'] = pd.to_datetime(df['날짜'])\n",
        "\n",
        "df['year'] = df['날짜'].dt.year\n",
        "\n",
        "df['매출액'] = df['판매수'] * df['개당수익']\n",
        "\n",
        "df22 = df[df['year'] == 2022]\n",
        "df23 = df[df['year'] == 2023]\n",
        "\n",
        "df22_sum = df22['매출액'].sum()\n",
        "df23_sum = df23['매출액'].sum()\n",
        "\n",
        "print(abs(df22_sum - df23_sum))"
      ],
      "metadata": {
        "id": "KFl9oikdmn0h",
        "colab": {
          "base_uri": "https://localhost:8080/"
        },
        "outputId": "7ab8223e-a36f-485e-ef53-8c4e65869ac6"
      },
      "execution_count": null,
      "outputs": [
        {
          "output_type": "stream",
          "name": "stdout",
          "text": [
            "48600\n"
          ]
        }
      ]
    },
    {
      "cell_type": "code",
      "source": [
        "# 문제 23\n",
        "# '23년 총 매출액이 큰 제품의 23년 판매수를 구하시오.\n",
        "# (매출액 = 판매수*개당수익)\n",
        "# 데이터 생성(수정금지)\n",
        "df = pd.DataFrame({\n",
        "'날짜': ['20220103','20220105', '20230105','20230127','20220203', '20220205','20230210','20230223','20230312','20230422','20220505','20230511'],\n",
        "'제품' : ['A','B', 'A', 'B', 'A', 'B','A', 'B', 'A', 'B', 'A', 'A'],\n",
        "'판매수': [3, 5, 5, 10, 10, 10, 15, 15, 20, 25, 30, 40],\n",
        "'개당수익': [300, 400, 500, 600, 400, 500, 500, 600, 600, 700, 600, 600]})\n",
        "\n",
        "df.head()\n",
        "\n",
        "df['날짜'] = pd.to_datetime(df['날짜'])\n",
        "\n",
        "df['year'] = df['날짜'].dt.year\n",
        "\n",
        "# 매출액 변수 추가\n",
        "df['매출액'] = df['판매수'] * df['개당수익']\n",
        "\n",
        "# 2023년으로 필터링\n",
        "df = df[df['year'] == 2023]\n",
        "\n",
        "# A, B 상품 매출액 별도로 구하기\n",
        "\n",
        "df_a = df[df['제품'] == 'A']\n",
        "a_sales = df_a['매출액'].sum()\n",
        "# print(a_sales)\n",
        "\n",
        "df_b = df[df['제품'] == 'B']\n",
        "b_sales = df_b['매출액'].sum()\n",
        "# print(b_sales)\n",
        "\n",
        "a_sum = df_a['판매수'].sum()\n",
        "print(a_sum)"
      ],
      "metadata": {
        "id": "quYRJt3RmnxK",
        "colab": {
          "base_uri": "https://localhost:8080/"
        },
        "outputId": "3a2498d8-1649-4e39-f18b-fd2354011ead"
      },
      "execution_count": null,
      "outputs": [
        {
          "output_type": "stream",
          "name": "stdout",
          "text": [
            "80\n"
          ]
        }
      ]
    },
    {
      "cell_type": "code",
      "source": [
        "# 문제 24\n",
        "# 매출액이 4천원 초과, 1만원 미만인 데이터 수를 출력하시오.\n",
        "# (매출액 = 판매수*개당수익)\n",
        "# 데이터 생성(수정금지)\n",
        "df = pd.DataFrame({\n",
        "'날짜': ['20220103','20220105', '20230105','20230127','20220203', '20220205','20230210','20230223','20230312','20230422','20220505','20230511'],\n",
        "'제품' : ['A','B', 'A', 'B', 'A', 'B','A', 'B', 'A', 'B', 'A', 'A'],\n",
        "'판매수': [3, 5, 5, 10, 10, 10, 15, 15, 20, 25, 30, 40],\n",
        "'개당수익': [300, 400, 500, 600, 400, 500, 500, 600, 600, 700, 600, 600]})\n",
        "df.head()\n",
        "\n",
        "df['매출액'] = df['판매수'] * df['개당수익']\n",
        "cond1 = df['매출액']>4000\n",
        "cond2 = df['매출액']<10000\n",
        "\n",
        "print(len(df[cond1 & cond2]))"
      ],
      "metadata": {
        "id": "vjXTWtvYmnul",
        "colab": {
          "base_uri": "https://localhost:8080/"
        },
        "outputId": "e196f8f5-08fc-46ae-a92b-c691a66ca8df"
      },
      "execution_count": null,
      "outputs": [
        {
          "output_type": "stream",
          "name": "stdout",
          "text": [
            "4\n"
          ]
        }
      ]
    },
    {
      "cell_type": "code",
      "source": [
        "# 문제 25\n",
        "# 23년 9월 24일 16:00~22:00 사이에 전체 제품의 판매수를 구하시오.\n",
        "# 시간 데이터 만들기(수정금지)\n",
        "df = pd.DataFrame( {\n",
        "'물품' : ['A', 'B', 'A', 'B', 'A', 'B', 'A'],\n",
        "'판매수': [5, 10, 15, 15, 20, 25, 40],\n",
        "'개당수익': [500, 600, 500, 600, 600, 700, 600] })\n",
        "time = pd.date_range('2023-09-24 12:25:00','2023-09-25 14:45:30', periods= 7)\n",
        "df['time']=time\n",
        "df = df[ ['time','물품','판매수','개당수익']]\n",
        "df\n",
        "\n",
        "# 항상 df.info()로 데이터 타입 확인할 것 -> 데이터 타입 datetime으로 변경\n",
        "df['time'] = pd.to_datetime(df['time'])\n",
        "\n",
        "# index 새로 지정\n",
        "df = df.set_index('time', drop=False)\n",
        "\n",
        "# 9월 24일 16:00~22:00 필터링 between( , )\n",
        "df = df[df['time'].between('2023-09-24 16:00:00', '2023-09-24 22:00:00')]\n",
        "\n",
        "print(df['판매수'].sum())"
      ],
      "metadata": {
        "id": "snoVflw7mnrz",
        "colab": {
          "base_uri": "https://localhost:8080/"
        },
        "outputId": "a06785f2-015c-477d-c198-681dbdbe4d27"
      },
      "execution_count": null,
      "outputs": [
        {
          "output_type": "stream",
          "name": "stdout",
          "text": [
            "25\n"
          ]
        }
      ]
    },
    {
      "cell_type": "code",
      "source": [
        "# 문제 26\n",
        "# 9월 25일 00:00~12:00 까지의 B물품의 매출액 총합을 구하시오.\n",
        "# (매출액 = 판매수*개당수익)\n",
        "# 시간 데이터 만들기(수정금지)\n",
        "df = pd.DataFrame( {\n",
        "'물품' : ['A', 'B', 'A', 'B', 'A', 'B', 'A'],\n",
        "'판매수': [5, 10, 15, 15, 20, 25, 40],\n",
        "'개당수익': [500, 600, 500, 600, 600, 700, 600] } )\n",
        "df['time'] = pd.date_range('2023-09-24 12:25:00','2023-09-25 14:45:30', periods= 7)\n",
        "df = df[ ['time','물품','판매수','개당수익'] ]\n",
        "df = df.set_index('time', drop=True)\n",
        "\n",
        "# 매출액 변수 추가\n",
        "df['매출액'] = df['판매수']*df['개당수익']\n",
        "\n",
        "# time 변수 추가하기, index 초기화 (인덱스를 컬럼으로)\n",
        "df = df.reset_index() # 디폴트 drop=False, reset_index() 안 할 경우 time 컬럼이 없어서 아래 에러뜸\n",
        "\n",
        "# 데이터 타입 datetime 으로 변경\n",
        "df['time'] = pd.to_datetime(df['time'])\n",
        "# 9월 25일 00:00:00 ~ 12:00:00 필터링 // df['변수'].between( , )\n",
        "df = df [df['time'].between('2023-09-25 00:00:00', '2023-09-25 12:00:00')] # 형식 동일하게 날짜+시간\n",
        "df\n",
        "# B 물품의 매출액 총합\n",
        "df = df[ df['물품']=='B']\n",
        "print(df['매출액'].sum())"
      ],
      "metadata": {
        "id": "BLbvQanNmnpb",
        "colab": {
          "base_uri": "https://localhost:8080/"
        },
        "outputId": "2770d69a-502a-4634-ed71-66ec1b501510"
      },
      "execution_count": null,
      "outputs": [
        {
          "output_type": "stream",
          "name": "stdout",
          "text": [
            "26500\n"
          ]
        }
      ]
    },
    {
      "cell_type": "code",
      "source": [
        "# 문제 27\n",
        "# 9월 24일 12:00~24:00 까지의 A물품의 매출액 총합을 구하시오.\n",
        "# (매출액 = 판매수*개당수익)\n",
        "# 시간 데이터 만들기(수정금지)\n",
        "df = pd.DataFrame( {\n",
        "'물품' : ['A', 'B', 'A', 'B', 'A', 'B', 'A'],\n",
        "'판매수': [5, 10, 15, 15, 20, 25, 40],\n",
        "'개당수익': [500, 600, 500, 600, 600, 700, 600] } )\n",
        "df['time'] = pd.date_range('2023-09-24 12:25:00','2023-09-25 14:45:30', periods= 7)\n",
        "df = df[ ['time','물품','판매수','개당수익'] ]\n",
        "df = df.set_index('time', drop=True)\n",
        "\n",
        "df['매출액'] = df['판매수'] * df['개당수익']\n",
        "df = df.reset_index()\n",
        "\n",
        "df['time'] = pd.to_datetime(df['time'])\n",
        "df = df[df['time'].between('2023-09-24 12:00:00', '2023-09-25 00:00:00')]\n",
        "df = df[df['물품'] == 'A']\n",
        "print(df['매출액'].sum())"
      ],
      "metadata": {
        "id": "RXzxn3UPGv-x",
        "colab": {
          "base_uri": "https://localhost:8080/"
        },
        "outputId": "24ef331f-f3b1-405d-84ff-7240c7ad0d8b"
      },
      "execution_count": null,
      "outputs": [
        {
          "output_type": "stream",
          "name": "stdout",
          "text": [
            "10000\n"
          ]
        }
      ]
    },
    {
      "cell_type": "markdown",
      "source": [
        "# 제1유형 (풀이용)\n",
        "제공된 데이터(data/mtcars.csv)의 qsec 칼럼을 최소-최대 척도(Min-Max Scale)로 변환한 후 0.5보다 큰 값을 가지는 레코드 수를 【제출 형식】에 맞춰 답안 작성 페이지에 입력하시오.\n",
        "\n",
        "\n",
        "【제출 형식】\n",
        "  ㉠ 정수(integer)로 입력\n",
        "      (단, 소수점을 포함한 경우 소수점 첫째 자리에서 반올림하여 계산)\n",
        "  ㉡ 정수 답안만 입력"
      ],
      "metadata": {
        "id": "2eO4fGEBKQiw"
      }
    },
    {
      "cell_type": "code",
      "source": [
        "import pandas as pd\n",
        "\n",
        "df = pd.read_csv('/content/mtcars.csv')\n",
        "\n",
        "import sklearn.preprocessing\n",
        "from sklearn.preprocessing import MinMaxScaler\n",
        "mscaler = MinMaxScaler()\n",
        "df['qsec'] = mscaler.fit_transform(df[['qsec']])\n",
        "print(len(df[df['qsec']>0.5])) # 9 출력"
      ],
      "metadata": {
        "id": "rVZC7EpHKaZC",
        "colab": {
          "base_uri": "https://localhost:8080/"
        },
        "outputId": "8888c6a3-2fe0-4e1e-d7c9-f135ea73b6c0"
      },
      "execution_count": null,
      "outputs": [
        {
          "output_type": "stream",
          "name": "stdout",
          "text": [
            "9\n"
          ]
        }
      ]
    }
  ]
}